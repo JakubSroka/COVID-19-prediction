{
 "cells": [
  {
   "cell_type": "code",
   "execution_count": 1,
   "metadata": {},
   "outputs": [],
   "source": [
    "import pandas as pd\n",
    "import numpy as np\n",
    "from matplotlib.ticker import ScalarFormatter\n",
    "import matplotlib.pyplot as plt"
   ]
  },
  {
   "cell_type": "markdown",
   "metadata": {},
   "source": [
    "# Utils & variables"
   ]
  },
  {
   "cell_type": "code",
   "execution_count": 2,
   "metadata": {},
   "outputs": [],
   "source": [
    "raw  = pd.read_csv('data/covid_19_data.csv')\n",
    "border_date = '2020-04-20'\n",
    "days_from_today = 5"
   ]
  },
  {
   "cell_type": "code",
   "execution_count": 3,
   "metadata": {},
   "outputs": [],
   "source": [
    "def line_plot(df, title, xlabel=None, ylabel=\"Cases\",\n",
    "              h=None, v=None, xlim=(None, None), ylim=(0, None),\n",
    "              math_scale=True, x_logscale=False, y_logscale=False, y_integer=False,\n",
    "              show_legend=True, bbox_to_anchor=(1.02, 0),  bbox_loc=\"lower left\"):\n",
    "    \"\"\"\n",
    "    Show chlonological change of the data.\n",
    "    \"\"\"\n",
    "    ax = df.plot()\n",
    "    # Scale\n",
    "    if math_scale:\n",
    "        ax.yaxis.set_major_formatter(ScalarFormatter(useMathText=True))\n",
    "        ax.ticklabel_format(style=\"sci\",  axis=\"y\",scilimits=(0, 0))\n",
    "    if x_logscale:\n",
    "        ax.set_xscale(\"log\")\n",
    "        if xlim[0] == 0:\n",
    "            xlim = (None, None)\n",
    "    if y_logscale:\n",
    "        ax.set_yscale(\"log\")\n",
    "        if ylim[0] == 0:\n",
    "            ylim = (None, None)\n",
    "    if y_integer:\n",
    "        fmt = matplotlib.ticker.ScalarFormatter(useOffset=False)\n",
    "        fmt.set_scientific(False)\n",
    "        ax.yaxis.set_major_formatter(fmt)\n",
    "    # Set metadata of figure\n",
    "    ax.set_title(title)\n",
    "    ax.set_xlabel(xlabel)\n",
    "    ax.set_ylabel(ylabel)\n",
    "    ax.set_xlim(*xlim)\n",
    "    ax.set_ylim(*ylim)\n",
    "    if show_legend:\n",
    "        ax.legend(bbox_to_anchor=bbox_to_anchor, loc=bbox_loc, borderaxespad=0)\n",
    "    else:\n",
    "        ax.legend().set_visible(False)\n",
    "    if h is not None:\n",
    "        ax.axhline(y=h, color=\"black\", linestyle=\":\")\n",
    "    if v is not None:\n",
    "        if not isinstance(v, list):\n",
    "            v = [v]\n",
    "        for value in v:\n",
    "            ax.axvline(x=value, color=\"black\", linestyle=\":\")\n",
    "    plt.tight_layout()\n",
    "    plt.show()"
   ]
  },
  {
   "cell_type": "markdown",
   "metadata": {},
   "source": [
    "# Data clearing and visualization"
   ]
  },
  {
   "cell_type": "code",
   "execution_count": 4,
   "metadata": {},
   "outputs": [
    {
     "data": {
      "text/html": [
       "<div>\n",
       "<style scoped>\n",
       "    .dataframe tbody tr th:only-of-type {\n",
       "        vertical-align: middle;\n",
       "    }\n",
       "\n",
       "    .dataframe tbody tr th {\n",
       "        vertical-align: top;\n",
       "    }\n",
       "\n",
       "    .dataframe thead th {\n",
       "        text-align: right;\n",
       "    }\n",
       "</style>\n",
       "<table border=\"1\" class=\"dataframe\">\n",
       "  <thead>\n",
       "    <tr style=\"text-align: right;\">\n",
       "      <th></th>\n",
       "      <th>Date</th>\n",
       "      <th>Confirmed</th>\n",
       "      <th>Infected</th>\n",
       "      <th>Deaths</th>\n",
       "      <th>Recovered</th>\n",
       "      <th>Place</th>\n",
       "    </tr>\n",
       "  </thead>\n",
       "  <tbody>\n",
       "    <tr>\n",
       "      <th>18322</th>\n",
       "      <td>2020-04-24</td>\n",
       "      <td>473</td>\n",
       "      <td>466</td>\n",
       "      <td>7</td>\n",
       "      <td>0</td>\n",
       "      <td>US Wyoming</td>\n",
       "    </tr>\n",
       "    <tr>\n",
       "      <th>18323</th>\n",
       "      <td>2020-04-24</td>\n",
       "      <td>76</td>\n",
       "      <td>0</td>\n",
       "      <td>3</td>\n",
       "      <td>73</td>\n",
       "      <td>China Xinjiang</td>\n",
       "    </tr>\n",
       "    <tr>\n",
       "      <th>18324</th>\n",
       "      <td>2020-04-24</td>\n",
       "      <td>11</td>\n",
       "      <td>11</td>\n",
       "      <td>0</td>\n",
       "      <td>0</td>\n",
       "      <td>Canada Yukon</td>\n",
       "    </tr>\n",
       "    <tr>\n",
       "      <th>18325</th>\n",
       "      <td>2020-04-24</td>\n",
       "      <td>185</td>\n",
       "      <td>3</td>\n",
       "      <td>2</td>\n",
       "      <td>180</td>\n",
       "      <td>China Yunnan</td>\n",
       "    </tr>\n",
       "    <tr>\n",
       "      <th>18326</th>\n",
       "      <td>2020-04-24</td>\n",
       "      <td>1268</td>\n",
       "      <td>11</td>\n",
       "      <td>1</td>\n",
       "      <td>1256</td>\n",
       "      <td>China Zhejiang</td>\n",
       "    </tr>\n",
       "  </tbody>\n",
       "</table>\n",
       "</div>"
      ],
      "text/plain": [
       "            Date  Confirmed  Infected  Deaths  Recovered           Place\n",
       "18322 2020-04-24        473       466       7          0      US Wyoming\n",
       "18323 2020-04-24         76         0       3         73  China Xinjiang\n",
       "18324 2020-04-24         11        11       0          0    Canada Yukon\n",
       "18325 2020-04-24        185         3       2        180    China Yunnan\n",
       "18326 2020-04-24       1268        11       1       1256  China Zhejiang"
      ]
     },
     "execution_count": 4,
     "metadata": {},
     "output_type": "execute_result"
    }
   ],
   "source": [
    "#https://www.kaggle.com/lisphilar/covid-19-data-with-sir-model/notebook#Dataset-and-tools\n",
    "\n",
    "data_cols = [\"Infected\", \"Deaths\", \"Recovered\"]\n",
    "data_cols_all = [\"Confirmed\", \"Infected\", \"Deaths\", \"Recovered\"]\n",
    "df = raw.rename({\"ObservationDate\": \"Date\", \"Province/State\": \"Province\"}, axis=1)\n",
    "df[\"Date\"] = pd.to_datetime(df[\"Date\"])\n",
    "df[\"Country\"] = df[\"Country/Region\"].replace(\n",
    "    {\n",
    "        \"Mainland China\": \"China\",\n",
    "        \"Hong Kong SAR\": \"Hong Kong\",\n",
    "        \"Taipei and environs\": \"Taiwan\",\n",
    "        \"Iran (Islamic Republic of)\": \"Iran\",\n",
    "        \"Republic of Korea\": \"South Korea\",\n",
    "        \"Republic of Ireland\": \"Ireland\",\n",
    "        \"Macao SAR\": \"Macau\",\n",
    "        \"Russian Federation\": \"Russia\",\n",
    "        \"Republic of Moldova\": \"Moldova\",\n",
    "        \"Taiwan*\": \"Taiwan\",\n",
    "        \"Cruise Ship\": \"Others\",\n",
    "        \"United Kingdom\": \"UK\",\n",
    "        \"Viet Nam\": \"Vietnam\",\n",
    "        \"Czechia\": \"Czech Republic\",\n",
    "        \"St. Martin\": \"Saint Martin\",\n",
    "        \"Cote d'Ivoire\": \"Ivory Coast\",\n",
    "        \"('St. Martin',)\": \"Saint Martin\",\n",
    "        \"Congo (Kinshasa)\": \"Congo\",\n",
    "        \"Congo (Brazzaville)\": \"Congo\",\n",
    "        \"The, Bahamas\": \"Bahamas\",\n",
    "    }\n",
    ")\n",
    "df[\"Province\"] = df[\"Province\"].fillna(\"-\").replace(\n",
    "    {\n",
    "        \"Cruise Ship\": \"Diamond Princess\",\n",
    "        \"Diamond Princess cruise ship\": \"Diamond Princess\"\n",
    "    }\n",
    ")\n",
    "df.loc[df[\"Country\"] == \"Diamond Princess\", [\"Country\", \"Province\"]] = [\"Others\", \"Diamond Princess\"]\n",
    "df[\"Infected\"] = df[\"Confirmed\"] - df[\"Deaths\"] - df[\"Recovered\"]\n",
    "df[data_cols_all] = df[data_cols_all].astype(np.int64)\n",
    "ncov_df_ungrouped = df.loc[:, [\"Date\", \"Country\", \"Province\", *data_cols_all]]\n",
    "ncov_df_ungrouped['Place'] = ncov_df_ungrouped['Country'] + ' '  + ncov_df_ungrouped['Province']\n",
    "ncov_df_ungrouped = ncov_df_ungrouped.drop('Country', 1)\n",
    "ncov_df_ungrouped = ncov_df_ungrouped.drop('Province', 1)\n",
    "ncov_df_ungrouped.tail()"
   ]
  },
  {
   "cell_type": "code",
   "execution_count": 5,
   "metadata": {},
   "outputs": [],
   "source": [
    "training = ncov_df_ungrouped[(ncov_df_ungrouped['Date'] > '2013-01-01') & (ncov_df_ungrouped['Date'] < border_date)]\n",
    "test = ncov_df_ungrouped[ncov_df_ungrouped['Date'] >= border_date]"
   ]
  },
  {
   "cell_type": "code",
   "execution_count": 6,
   "metadata": {},
   "outputs": [
    {
     "data": {
      "text/plain": [
       "array(['China Anhui', 'China Beijing', 'China Chongqing', 'China Fujian',\n",
       "       'China Gansu', 'China Guangdong', 'China Guangxi', 'China Guizhou',\n",
       "       'China Hainan', 'China Hebei', 'China Heilongjiang', 'China Henan',\n",
       "       'Hong Kong Hong Kong', 'China Hubei', 'China Hunan',\n",
       "       'China Inner Mongolia', 'China Jiangsu', 'China Jiangxi',\n",
       "       'China Jilin', 'China Liaoning', 'Macau Macau', 'China Ningxia',\n",
       "       'China Qinghai', 'China Shaanxi', 'China Shandong',\n",
       "       'China Shanghai', 'China Shanxi', 'China Sichuan', 'Taiwan Taiwan',\n",
       "       'China Tianjin', 'China Tibet', 'US Washington', 'China Xinjiang',\n",
       "       'China Yunnan', 'China Zhejiang', 'Japan -', 'Thailand -',\n",
       "       'South Korea -', 'Singapore -', 'Philippines -', 'Malaysia -',\n",
       "       'Vietnam -', 'Australia -', 'Mexico -', 'Brazil -', 'Colombia -',\n",
       "       'US Chicago', 'France -', 'US Illinois', 'Nepal -',\n",
       "       'US California', 'US Arizona', 'Canada Ontario', 'Cambodia -',\n",
       "       'Sri Lanka -', 'Ivory Coast -', 'Australia New South Wales',\n",
       "       'Australia Victoria', 'Canada British Columbia', 'Germany Bavaria',\n",
       "       'Finland -', 'United Arab Emirates -', 'Australia Queensland',\n",
       "       'India -', 'Italy -', 'UK -', 'Russia -', 'Sweden -', 'Germany -',\n",
       "       'US Chicago, IL', 'Australia South Australia', 'Spain -',\n",
       "       'US Boston, MA', 'US Los Angeles, CA', 'US Orange, CA',\n",
       "       'US Santa Clara, CA', 'US Seattle, WA', 'US Tempe, AZ',\n",
       "       'US San Benito, CA', 'Canada Toronto, ON', 'Belgium -',\n",
       "       'Canada London, ON', 'US Madison, WI', 'Others Diamond Princess',\n",
       "       'US San Diego County, CA', 'US San Antonio, TX', 'Egypt -',\n",
       "       'Iran -', 'US Ashland, NE', 'US Travis, CA',\n",
       "       'Australia From Diamond Princess', 'US Lackland, TX',\n",
       "       'Israel From Diamond Princess', 'Lebanon None',\n",
       "       'US Humboldt County, CA', 'US Sacramento County, CA',\n",
       "       'US Omaha, NE (From Diamond Princess)',\n",
       "       'US Travis, CA (From Diamond Princess)',\n",
       "       'US Lackland, TX (From Diamond Princess)', 'Lebanon -',\n",
       "       'Iraq None', 'US Unassigned Location (From Diamond Princess)',\n",
       "       'Oman -', 'Afghanistan -', 'Bahrain -', 'Iraq -', 'Kuwait -',\n",
       "       'Austria None', 'Algeria -', 'Croatia -', 'Switzerland -',\n",
       "       'Austria -', 'Israel -', 'Pakistan -', 'Georgia -', 'Greece -',\n",
       "       'North Macedonia -', 'Norway -', 'Romania -', 'Denmark -',\n",
       "       'Estonia -', 'Netherlands -', 'San Marino -', ' Azerbaijan -',\n",
       "       'Belarus -', 'Canada  Montreal, QC', 'Iceland -', 'Lithuania -',\n",
       "       'New Zealand -', 'Nigeria -', 'North Ireland -',\n",
       "       'Australia Western Australia', 'Ireland -', 'Luxembourg -',\n",
       "       'Monaco -', 'Qatar -', 'US Portland, OR',\n",
       "       'US Snohomish County, WA', 'Ecuador -', 'Azerbaijan -',\n",
       "       'Czech Republic -', 'Armenia -', 'Dominican Republic -',\n",
       "       'US Providence, RI', 'US King County, WA', 'US Cook County, IL',\n",
       "       'Indonesia -', 'Portugal -', 'Andorra -', 'Australia Tasmania',\n",
       "       'Latvia -', 'Morocco -', 'Saudi Arabia -', 'Senegal -',\n",
       "       'US Grafton County, NH', 'US Hillsborough, FL',\n",
       "       'US New York City, NY', 'US Placer County, CA', 'US San Mateo, CA',\n",
       "       'US Sarasota, FL', 'US Sonoma County, CA', 'US Umatilla, OR',\n",
       "       'US Fulton County, GA', 'US Washington County, OR', 'Argentina -',\n",
       "       'Chile -', 'Jordan -', 'US  Norfolk County, MA', 'US Berkeley, CA',\n",
       "       'US Maricopa County, AZ', 'US Wake County, NC',\n",
       "       'US Westchester County, NY', 'Ukraine -', 'Saint Barthelemy -',\n",
       "       'US Orange County, CA', 'Hungary -',\n",
       "       'Australia Northern Territory', 'Faroe Islands -', 'Gibraltar -',\n",
       "       'Liechtenstein -', 'Poland -', 'Tunisia -',\n",
       "       'US Contra Costa County, CA', 'Palestine -',\n",
       "       'Bosnia and Herzegovina -', 'Slovenia -', 'US Bergen County, NJ',\n",
       "       'US Harris County, TX', 'US San Francisco County, CA',\n",
       "       'South Africa -', 'US Clark County, NV', 'US Fort Bend County, TX',\n",
       "       'US Grant County, WA', 'US Queens County, NY',\n",
       "       'US Santa Rosa County, FL', 'US Williamson County, TN',\n",
       "       'US New York County, NY', 'US Unassigned Location, WA',\n",
       "       'US Montgomery County, MD', 'US Suffolk County, MA',\n",
       "       'US Denver County, CO', 'US Summit County, CO', 'Bhutan -',\n",
       "       'Cameroon -', 'Canada Calgary, Alberta', 'Costa Rica -', 'Peru -',\n",
       "       'Serbia -', 'Slovakia -', 'Togo -', 'US Chatham County, NC',\n",
       "       'US Delaware County, PA', 'US Douglas County, NE',\n",
       "       'US Fayette County, KY', 'US Floyd County, GA',\n",
       "       'US Marion County, IN', 'US Middlesex County, MA',\n",
       "       'US Nassau County, NY', 'US Norwell County, MA',\n",
       "       'US Ramsey County, MN', 'US Washoe County, NV',\n",
       "       'US Wayne County, PA', 'US Yolo County, CA', 'Vatican City -',\n",
       "       'US Santa Clara County, CA', 'US Grand Princess Cruise Ship',\n",
       "       'French Guiana -', 'Malta -', 'US Douglas County, CO',\n",
       "       'US Providence County, RI', 'Martinique -',\n",
       "       'US Alameda County, CA', 'US Broward County, FL',\n",
       "       'US Fairfield County, CT', 'US Lee County, FL',\n",
       "       'US Pinal County, AZ', 'US Rockland County, NY',\n",
       "       'US Saratoga County, NY', 'Canada Edmonton, Alberta',\n",
       "       'US Charleston County, SC', 'US Clark County, WA',\n",
       "       'US Cobb County, GA', 'US Davis County, UT',\n",
       "       'US El Paso County, CO', 'US Honolulu County, HI',\n",
       "       'US Jackson County, OR ', 'US Jefferson County, WA',\n",
       "       'US Kershaw County, SC', 'US Klamath County, OR',\n",
       "       'US Madera County, CA', 'US Pierce County, WA',\n",
       "       'US Plymouth County, MA', 'US Santa Cruz County, CA',\n",
       "       'US Tulsa County, OK', 'US Montgomery County, TX',\n",
       "       'US Norfolk County, MA', 'Bulgaria -', 'Maldives -',\n",
       "       'US Montgomery County, PA', 'Bangladesh -',\n",
       "       'US Fairfax County, VA', 'US Rockingham County, NH',\n",
       "       'US Washington, D.C.', 'Moldova -', 'Paraguay -',\n",
       "       'US Berkshire County, MA', 'US Davidson County, TN',\n",
       "       'US Douglas County, OR', 'US Fresno County, CA',\n",
       "       'US Harford County, MD', 'US Hendricks County, IN',\n",
       "       'US Hudson County, NJ', 'US Johnson County, KS',\n",
       "       'US Kittitas County, WA', 'US Manatee County, FL',\n",
       "       'US Marion County, OR', 'US Okaloosa County, FL',\n",
       "       'US Polk County, GA', 'US Riverside County, CA',\n",
       "       'US Shelby County, TN', 'US Spokane County, WA',\n",
       "       'US St. Louis County, MO', 'US Suffolk County, NY',\n",
       "       'US Ulster County, NY', 'US Unassigned Location, VT',\n",
       "       'US Unknown Location, MA', 'US Volusia County, FL',\n",
       "       'Canada Alberta', 'Canada Quebec', 'US Johnson County, IA',\n",
       "       'Albania -', 'Cyprus -', 'Saint Martin -',\n",
       "       'US Harrison County, KY', 'Brunei -', 'US Bennington County, VT',\n",
       "       'US Carver County, MN', 'US Charlotte County, FL',\n",
       "       'US Cherokee County, GA', 'US Collin County, TX',\n",
       "       'US Jefferson County, KY', 'US Jefferson Parish, LA',\n",
       "       'US Shasta County, CA', 'US Spartanburg County, SC', 'US New York',\n",
       "       'US Massachusetts', 'US Diamond Princess',\n",
       "       'occupied Palestinian territory -', 'US Grand Princess',\n",
       "       'US Georgia', 'US Colorado', 'US Florida', 'US New Jersey',\n",
       "       'US Oregon', 'US Texas', 'US Pennsylvania', 'US Iowa',\n",
       "       'US Maryland', 'US North Carolina', 'US South Carolina',\n",
       "       'US Tennessee', 'US Virginia', 'US Indiana', 'US Kentucky',\n",
       "       'US District of Columbia', 'US Nevada', 'US New Hampshire',\n",
       "       'US Minnesota', 'US Nebraska', 'US Ohio', 'US Rhode Island',\n",
       "       'US Wisconsin', 'US Connecticut', 'US Hawaii', 'US Oklahoma',\n",
       "       'US Utah', 'Burkina Faso -', 'Channel Islands -', 'Holy See -',\n",
       "       'Mongolia -', 'Panama -', 'US Kansas', 'US Louisiana',\n",
       "       'US Missouri', 'US Vermont', 'Australia Diamond Princess',\n",
       "       'US Alaska', 'US Arkansas', 'US Delaware', 'US Idaho', 'US Maine',\n",
       "       'US Michigan', 'US Mississippi', 'US Montana', 'US New Mexico',\n",
       "       'US North Dakota', 'US South Dakota', 'US West Virginia',\n",
       "       'US Wyoming', 'France France', 'UK UK', 'Denmark Denmark',\n",
       "       'Taiwan -', 'Bolivia -', 'Denmark Faroe Islands',\n",
       "       'France St Martin', 'Honduras -', 'UK Channel Islands',\n",
       "       'Canada New Brunswick', 'Congo -', 'France Saint Barthelemy',\n",
       "       'Jamaica -', 'Reunion -', 'Turkey -', 'UK Gibraltar', 'Cuba -',\n",
       "       'Guyana -', 'Australia Australian Capital Territory',\n",
       "       'UK United Kingdom', 'Kazakhstan -', 'France French Polynesia',\n",
       "       'Cayman Islands -', 'Guadeloupe -', 'Canada Manitoba',\n",
       "       'Canada Saskatchewan', 'Ethiopia -', 'Sudan -', 'Guinea -',\n",
       "       'Antigua and Barbuda -', 'Aruba -', 'Canada Grand Princess',\n",
       "       'Kenya -', 'US Alabama', 'France Fench Guiana', 'Uruguay -',\n",
       "       'Ghana -', 'US Puerto Rico', 'Jersey -', 'Namibia -',\n",
       "       'Seychelles -', 'Trinidad and Tobago -', 'Venezuela -',\n",
       "       'Curacao -', 'Eswatini -', 'Gabon -', 'Guatemala -', 'Guernsey -',\n",
       "       'Mauritania -', 'Rwanda -', 'Saint Lucia -',\n",
       "       'Saint Vincent and the Grenadines -', 'Suriname -',\n",
       "       'US Virgin Islands, U.S.', 'France French Guiana', 'US Guam',\n",
       "       'Kosovo -', 'Canada Newfoundland and Labrador',\n",
       "       'Canada Prince Edward Island', 'Central African Republic -',\n",
       "       'Equatorial Guinea -', 'France Mayotte', 'Uzbekistan -',\n",
       "       'Netherlands Netherlands', 'Canada Nova Scotia',\n",
       "       'France Guadeloupe', 'Guam -', 'Puerto Rico -', 'Benin -',\n",
       "       'Greenland -', 'Liberia -', 'Mayotte -', 'Netherlands Curacao',\n",
       "       'Republic of the Congo -', 'Somalia -', 'Tanzania -',\n",
       "       'The Bahamas -', 'US Virgin Islands', 'UK Cayman Islands',\n",
       "       'France Reunion', 'Barbados -', 'Montenegro -', 'The Gambia -',\n",
       "       'Kyrgyzstan -', 'Mauritius -', 'Netherlands Aruba',\n",
       "       'US United States Virgin Islands', 'Zambia -', 'Djibouti -',\n",
       "       'Gambia, The -', 'US US', 'UK Montserrat', 'Bahamas, The -',\n",
       "       'Denmark Greenland', 'France New Caledonia', 'UK Bermuda',\n",
       "       'Chad -', 'El Salvador -', 'Fiji -', 'Nicaragua -', 'Madagascar -',\n",
       "       'Haiti -', 'Angola -', 'Cabo Verde -', 'Netherlands Sint Maarten',\n",
       "       'Niger -', 'Papua New Guinea -', 'UK Isle of Man', 'Zimbabwe -',\n",
       "       'Canada Northwest Territories', 'Cape Verde -', 'East Timor -',\n",
       "       'Eritrea -', 'Uganda -', 'Bahamas -', 'Dominica -', 'Gambia -',\n",
       "       'Grenada -', 'Mozambique -', 'Syria -', 'Timor-Leste -',\n",
       "       'US American Samoa', 'Canada Diamond Princess',\n",
       "       'Australia External territories', 'Australia Jervis Bay Territory',\n",
       "       'France Martinique', 'US Northern Mariana Islands',\n",
       "       'US Wuhan Evacuee', 'Belize -', 'Laos -', 'Libya -',\n",
       "       'Canada Recovered', 'US Recovered', 'Guinea-Bissau -', 'Mali -',\n",
       "       'Saint Kitts and Nevis -', 'West Bank and Gaza -', 'Canada Yukon',\n",
       "       'Burma -', 'MS Zaandam -', 'UK Anguilla',\n",
       "       'UK British Virgin Islands', 'UK Turks and Caicos Islands',\n",
       "       'Botswana -', 'Burundi -', 'Sierra Leone -', 'Malawi -',\n",
       "       'Netherlands Bonaire, Sint Eustatius and Saba',\n",
       "       'UK Falkland Islands (Islas Malvinas)', 'South Sudan -',\n",
       "       'Western Sahara -', 'France Saint Pierre and Miquelon',\n",
       "       'Sao Tome and Principe -', 'UK Falkland Islands (Malvinas)',\n",
       "       'Yemen -'], dtype=object)"
      ]
     },
     "execution_count": 6,
     "metadata": {},
     "output_type": "execute_result"
    }
   ],
   "source": [
    "places = ncov_df_ungrouped['Place'].unique()\n",
    "places"
   ]
  },
  {
   "cell_type": "code",
   "execution_count": 7,
   "metadata": {},
   "outputs": [],
   "source": [
    "germany =  ncov_df_ungrouped[ncov_df_ungrouped['Place'] == 'Germany -']\n",
    "germany_test =  test[test['Place'] == 'Germany -']\n",
    "germany_training =  training[training['Place'] == 'Germany -']\n"
   ]
  },
  {
   "cell_type": "code",
   "execution_count": 8,
   "metadata": {},
   "outputs": [
    {
     "data": {
      "image/png": "[encoded data removed]",
      "text/plain": [
       "<Figure size 432x288 with 1 Axes>"
      ]
     },
     "metadata": {
      "needs_background": "light"
     },
     "output_type": "display_data"
    }
   ],
   "source": [
    "cols = ['Confirmed', 'Deaths']\n",
    "line_plot(germany[cols], \"Total number of cases over time\")"
   ]
  },
  {
   "cell_type": "markdown",
   "metadata": {},
   "source": [
    "# Simple linear model"
   ]
  },
  {
   "cell_type": "code",
   "execution_count": 9,
   "metadata": {},
   "outputs": [],
   "source": [
    "import matplotlib.pyplot as plt\n",
    "from scipy.optimize import curve_fit\n",
    "\n",
    "def sigmoid(x, N, k, x0):\n",
    "    return N / (1 + np.exp(-k * (x - x0)))\n",
    "\n",
    "def exponenta(x, a , b, c, x0):\n",
    "    return a * np.power(b, x-x0) + c\n",
    "\n",
    "def poli(x, a , b, c, d):\n",
    "    return a * np.power(x, 3) + b * np.power(x, 2) + c * np.power(x, 1) + d\n",
    "\n",
    "def getError(x, y, func, params):\n",
    "    N = len(x)\n",
    "    return 1/N * (np.square(y - func(x, *params)).sum())\n",
    "\n",
    "functions = [sigmoid, exponenta, poli]\n",
    "\n",
    "def getDataSet(dataset, label):\n",
    "    data = dataset[label]\n",
    "    y = data.to_numpy()\n",
    "    if y[len(y) -1 ] > 500:\n",
    "        y0 = np.where(y > 100)[0][0]\n",
    "        y = y[y0:]\n",
    "    x = np.array(list(range(0,len(y))))\n",
    "    return (x,y)\n",
    "\n",
    "def fitFuntion(dataset, label, verbose = False): \n",
    "    x, y = getDataSet(dataset, label)\n",
    "    bestFitFunc = {}\n",
    "    minError = -1\n",
    "    fitting = []\n",
    "    for f in functions:\n",
    "        try: \n",
    "            popt, pcov = curve_fit(f, x, y)\n",
    "        except:\n",
    "            continue\n",
    "        err = getError(x, y, f, popt)\n",
    "        ob = {'error': err, 'function': f, 'pcov': pcov, 'popt': popt}\n",
    "        fitting.append(ob)\n",
    "        if minError == -1 or err < minError:\n",
    "            minError = err \n",
    "            bestFitFunc = ob\n",
    "    if verbose:\n",
    "        for res in fitting:\n",
    "            print(\"function: \" +  str(res['function'].__name__) + \" err: \" + str(res['error']) +  \" params: \", str(res['popt']))\n",
    "    return bestFitFunc\n",
    "def plotResult(dataset, label, bestFitFunc):\n",
    "    x, y = getDataSet(dataset, label)\n",
    "    func = bestFitFunc['function']\n",
    "    popt = bestFitFunc['popt']\n",
    "    plt.axvline(x=len(x)-days_from_today, ymin=0, ymax=y[len(y)-1], color='r')\n",
    "    plt.plot(x, y, 'b-', label='data')\n",
    "    plt.plot(x, func(x, *popt), 'g--', label='estimation')\n",
    "    plt.xlabel('x')\n",
    "    plt.ylabel('y')\n",
    "    plt.legend()\n",
    "    plt.show()"
   ]
  },
  {
   "cell_type": "code",
   "execution_count": 10,
   "metadata": {},
   "outputs": [
    {
     "data": {
      "image/png": "[encoded data removed]",
      "text/plain": [
       "<Figure size 432x288 with 1 Axes>"
      ]
     },
     "metadata": {
      "needs_background": "light"
     },
     "output_type": "display_data"
    },
    {
     "name": "stdout",
     "output_type": "stream",
     "text": [
      "Used Method: sigmoid\n"
     ]
    }
   ],
   "source": [
    "fit = fitFuntion(germany_training, 'Confirmed')\n",
    "plotResult(germany, 'Confirmed', fit)\n",
    "print(\"Used Method: \" + fit['function'].__name__)"
   ]
  },
  {
   "cell_type": "code",
   "execution_count": 11,
   "metadata": {},
   "outputs": [
    {
     "name": "stderr",
     "output_type": "stream",
     "text": [
      "/home/jakub/.local/lib/python3.6/site-packages/scipy/optimize/minpack.py:808: OptimizeWarning: Covariance of the parameters could not be estimated\n",
      "  category=OptimizeWarning)\n"
     ]
    },
    {
     "data": {
      "image/png": "[encoded data removed]",
      "text/plain": [
       "<Figure size 432x288 with 1 Axes>"
      ]
     },
     "metadata": {
      "needs_background": "light"
     },
     "output_type": "display_data"
    },
    {
     "name": "stdout",
     "output_type": "stream",
     "text": [
      "Used Method: poli\n"
     ]
    }
   ],
   "source": [
    "fit = fitFuntion(germany_training, 'Deaths')\n",
    "plotResult(germany, 'Deaths', fit)\n",
    "print(\"Used Method: \" + fit['function'].__name__)"
   ]
  },
  {
   "cell_type": "code",
   "execution_count": 12,
   "metadata": {},
   "outputs": [
    {
     "data": {
      "image/png": "[encoded data removed]",
      "text/plain": [
       "<Figure size 432x288 with 1 Axes>"
      ]
     },
     "metadata": {
      "needs_background": "light"
     },
     "output_type": "display_data"
    },
    {
     "data": {
      "text/html": [
       "<div>\n",
       "<style scoped>\n",
       "    .dataframe tbody tr th:only-of-type {\n",
       "        vertical-align: middle;\n",
       "    }\n",
       "\n",
       "    .dataframe tbody tr th {\n",
       "        vertical-align: top;\n",
       "    }\n",
       "\n",
       "    .dataframe thead th {\n",
       "        text-align: right;\n",
       "    }\n",
       "</style>\n",
       "<table border=\"1\" class=\"dataframe\">\n",
       "  <thead>\n",
       "    <tr style=\"text-align: right;\">\n",
       "      <th></th>\n",
       "      <th>Confirmed</th>\n",
       "      <th>Infected</th>\n",
       "      <th>Deaths</th>\n",
       "      <th>Recovered</th>\n",
       "    </tr>\n",
       "    <tr>\n",
       "      <th>Date</th>\n",
       "      <th></th>\n",
       "      <th></th>\n",
       "      <th></th>\n",
       "      <th></th>\n",
       "    </tr>\n",
       "  </thead>\n",
       "  <tbody>\n",
       "    <tr>\n",
       "      <th>2020-01-22</th>\n",
       "      <td>555</td>\n",
       "      <td>510</td>\n",
       "      <td>17</td>\n",
       "      <td>28</td>\n",
       "    </tr>\n",
       "    <tr>\n",
       "      <th>2020-01-23</th>\n",
       "      <td>653</td>\n",
       "      <td>605</td>\n",
       "      <td>18</td>\n",
       "      <td>30</td>\n",
       "    </tr>\n",
       "    <tr>\n",
       "      <th>2020-01-24</th>\n",
       "      <td>941</td>\n",
       "      <td>879</td>\n",
       "      <td>26</td>\n",
       "      <td>36</td>\n",
       "    </tr>\n",
       "    <tr>\n",
       "      <th>2020-01-25</th>\n",
       "      <td>1438</td>\n",
       "      <td>1357</td>\n",
       "      <td>42</td>\n",
       "      <td>39</td>\n",
       "    </tr>\n",
       "    <tr>\n",
       "      <th>2020-01-26</th>\n",
       "      <td>2118</td>\n",
       "      <td>2010</td>\n",
       "      <td>56</td>\n",
       "      <td>52</td>\n",
       "    </tr>\n",
       "    <tr>\n",
       "      <th>...</th>\n",
       "      <td>...</td>\n",
       "      <td>...</td>\n",
       "      <td>...</td>\n",
       "      <td>...</td>\n",
       "    </tr>\n",
       "    <tr>\n",
       "      <th>2020-04-20</th>\n",
       "      <td>2472259</td>\n",
       "      <td>1656535</td>\n",
       "      <td>169986</td>\n",
       "      <td>645738</td>\n",
       "    </tr>\n",
       "    <tr>\n",
       "      <th>2020-04-21</th>\n",
       "      <td>2549123</td>\n",
       "      <td>1692721</td>\n",
       "      <td>176583</td>\n",
       "      <td>679819</td>\n",
       "    </tr>\n",
       "    <tr>\n",
       "      <th>2020-04-22</th>\n",
       "      <td>2623960</td>\n",
       "      <td>1731200</td>\n",
       "      <td>183066</td>\n",
       "      <td>709694</td>\n",
       "    </tr>\n",
       "    <tr>\n",
       "      <th>2020-04-23</th>\n",
       "      <td>2708885</td>\n",
       "      <td>1779541</td>\n",
       "      <td>190858</td>\n",
       "      <td>738486</td>\n",
       "    </tr>\n",
       "    <tr>\n",
       "      <th>2020-04-24</th>\n",
       "      <td>2811193</td>\n",
       "      <td>1820433</td>\n",
       "      <td>197159</td>\n",
       "      <td>793601</td>\n",
       "    </tr>\n",
       "  </tbody>\n",
       "</table>\n",
       "<p>94 rows × 4 columns</p>\n",
       "</div>"
      ],
      "text/plain": [
       "            Confirmed  Infected  Deaths  Recovered\n",
       "Date                                              \n",
       "2020-01-22        555       510      17         28\n",
       "2020-01-23        653       605      18         30\n",
       "2020-01-24        941       879      26         36\n",
       "2020-01-25       1438      1357      42         39\n",
       "2020-01-26       2118      2010      56         52\n",
       "...               ...       ...     ...        ...\n",
       "2020-04-20    2472259   1656535  169986     645738\n",
       "2020-04-21    2549123   1692721  176583     679819\n",
       "2020-04-22    2623960   1731200  183066     709694\n",
       "2020-04-23    2708885   1779541  190858     738486\n",
       "2020-04-24    2811193   1820433  197159     793601\n",
       "\n",
       "[94 rows x 4 columns]"
      ]
     },
     "execution_count": 12,
     "metadata": {},
     "output_type": "execute_result"
    }
   ],
   "source": [
    "global_dt = ncov_df_ungrouped.drop('Place', 1).groupby(['Date']).sum()\n",
    "global_training = global_dt[(global_dt.index > '2013-01-01') & (global_dt.index < border_date)]\n",
    "line_plot(global_dt[cols], \"Total number of cases over time\")\n",
    "global_dt"
   ]
  },
  {
   "cell_type": "code",
   "execution_count": 13,
   "metadata": {},
   "outputs": [
    {
     "name": "stdout",
     "output_type": "stream",
     "text": [
      "function: sigmoid err: 1168243624.433547 params:  [3.12504419e+06 1.12385625e-01 7.77153838e+01]\n",
      "function: exponenta err: 7133345786.001274 params:  [ 1.38035624e+02  1.06179322e+00 -4.09964465e+04 -7.67429653e+01]\n",
      "function: poli err: 2707559198.986719 params:  [ 1.06448327e+01 -8.02648753e+02  1.78541650e+04 -6.00355276e+04]\n"
     ]
    },
    {
     "data": {
      "image/png": "[encoded data removed]",
      "text/plain": [
       "<Figure size 432x288 with 1 Axes>"
      ]
     },
     "metadata": {
      "needs_background": "light"
     },
     "output_type": "display_data"
    },
    {
     "name": "stdout",
     "output_type": "stream",
     "text": [
      "Used Method: sigmoid\n",
      "Error : 1168243624.433547\n"
     ]
    }
   ],
   "source": [
    "fit = fitFuntion(global_training, 'Confirmed', verbose = True)\n",
    "plotResult(global_dt, 'Confirmed', fit)\n",
    "print(\"Used Method: \" + fit['function'].__name__)\n",
    "print(\"Error : \" + str(fit['error']))"
   ]
  },
  {
   "cell_type": "code",
   "execution_count": 14,
   "metadata": {},
   "outputs": [
    {
     "data": {
      "image/png": "[encoded data removed]",
      "text/plain": [
       "<Figure size 432x288 with 1 Axes>"
      ]
     },
     "metadata": {
      "needs_background": "light"
     },
     "output_type": "display_data"
    },
    {
     "name": "stdout",
     "output_type": "stream",
     "text": [
      "Used Method: sigmoid\n",
      "Error : 1973162.9550586846\n"
     ]
    }
   ],
   "source": [
    "fit = fitFuntion(global_training, 'Deaths')\n",
    "plotResult(global_dt, 'Deaths', fit)\n",
    "print(\"Used Method: \" + fit['function'].__name__)\n",
    "print(\"Error : \" + str(fit['error']))"
   ]
  },
  {
   "cell_type": "markdown",
   "metadata": {},
   "source": [
    "# Enchancment for global model (measure model based on sum of predictions for each country)"
   ]
  },
  {
   "cell_type": "code",
   "execution_count": 15,
   "metadata": {},
   "outputs": [],
   "source": [
    "def fillToN(y, N):\n",
    "    w = np.zeros(N - len(y))\n",
    "    return np.concatenate((w,y))    \n",
    "    \n",
    "def getErrorGlobal(y, agg):\n",
    "    N = len(y)\n",
    "    print(N)\n",
    "    return 1/N * (np.square(y - agg).sum())\n",
    "    \n",
    "def predict_global(label):\n",
    "    print(\"Nuber of separate places used in estimation: \" + str(len(places)))\n",
    "    funcMap = {'sigmoid': 0, 'poli': 0, 'exponenta': 0}\n",
    "    N = 110\n",
    "    x, y = getDataSet(global_dt, label)\n",
    "    x = list(range(N))\n",
    "    y = fillToN(y, N)\n",
    "    agg = np.zeros(N)\n",
    "    for place in places:\n",
    "        dt = ncov_df_ungrouped[ncov_df_ungrouped['Place'] == place]\n",
    "        dt_training =  training[training['Place'] ==  place]\n",
    "        fit = fitFuntion(dt_training, label)\n",
    "        a, b = getDataSet(dt, label)\n",
    "        if 'function' in fit:\n",
    "            func = fit['function']\n",
    "            funcMap[func.__name__] += 1 \n",
    "            popt = fit['popt']\n",
    "            y_fited = fillToN(func(a, *popt), N)\n",
    "            agg = agg + y_fited\n",
    "\n",
    "    print(\"Square error: \" + str(getErrorGlobal(y, agg)))\n",
    "    print(\"function usage in fitting: \")\n",
    "    print(funcMap)\n",
    "    plt.axvline(x=len(x)-days_from_today, ymin=0, ymax=y[len(y)-1], color='r')\n",
    "    plt.plot(x, y, 'b-', label='data')\n",
    "    plt.plot(x, agg, 'g--', label='estimation')\n",
    "    plt.xlabel('x')\n",
    "    plt.ylabel('y')\n",
    "    plt.legend()\n",
    "    plt.show()"
   ]
  },
  {
   "cell_type": "code",
   "execution_count": 16,
   "metadata": {},
   "outputs": [
    {
     "name": "stdout",
     "output_type": "stream",
     "text": [
      "Nuber of separate places used in estimation: 514\n"
     ]
    },
    {
     "name": "stderr",
     "output_type": "stream",
     "text": [
      "/home/jakub/.local/lib/python3.6/site-packages/scipy/optimize/minpack.py:808: OptimizeWarning: Covariance of the parameters could not be estimated\n",
      "  category=OptimizeWarning)\n",
      "/home/jakub/.local/lib/python3.6/site-packages/ipykernel_launcher.py:5: RuntimeWarning: overflow encountered in exp\n",
      "  \"\"\"\n",
      "/home/jakub/.local/lib/python3.6/site-packages/ipykernel_launcher.py:8: RuntimeWarning: invalid value encountered in power\n",
      "  \n"
     ]
    },
    {
     "name": "stdout",
     "output_type": "stream",
     "text": [
      "110\n",
      "Square error: 78655822.37444298\n",
      "function usage in fitting: \n",
      "{'sigmoid': 51, 'poli': 331, 'exponenta': 60}\n"
     ]
    },
    {
     "data": {
      "image/png": "[encoded data removed]",
      "text/plain": [
       "<Figure size 432x288 with 1 Axes>"
      ]
     },
     "metadata": {
      "needs_background": "light"
     },
     "output_type": "display_data"
    }
   ],
   "source": [
    "predict_global('Confirmed')"
   ]
  },
  {
   "cell_type": "code",
   "execution_count": 17,
   "metadata": {},
   "outputs": [
    {
     "name": "stdout",
     "output_type": "stream",
     "text": [
      "Nuber of separate places used in estimation: 514\n"
     ]
    },
    {
     "name": "stderr",
     "output_type": "stream",
     "text": [
      "/home/jakub/.local/lib/python3.6/site-packages/ipykernel_launcher.py:5: RuntimeWarning: overflow encountered in exp\n",
      "  \"\"\"\n",
      "/home/jakub/.local/lib/python3.6/site-packages/scipy/optimize/minpack.py:808: OptimizeWarning: Covariance of the parameters could not be estimated\n",
      "  category=OptimizeWarning)\n",
      "/home/jakub/.local/lib/python3.6/site-packages/ipykernel_launcher.py:8: RuntimeWarning: invalid value encountered in power\n",
      "  \n"
     ]
    },
    {
     "name": "stdout",
     "output_type": "stream",
     "text": [
      "110\n",
      "Square error: 1779285.7375481683\n",
      "function usage in fitting: \n",
      "{'sigmoid': 146, 'poli': 146, 'exponenta': 159}\n"
     ]
    },
    {
     "data": {
      "image/png": "[encoded data removed]",
      "text/plain": [
       "<Figure size 432x288 with 1 Axes>"
      ]
     },
     "metadata": {
      "needs_background": "light"
     },
     "output_type": "display_data"
    }
   ],
   "source": [
    "predict_global('Deaths')"
   ]
  },
  {
   "cell_type": "markdown",
   "metadata": {},
   "source": [
    "# Simple XGBRegressor"
   ]
  },
  {
   "cell_type": "code",
   "execution_count": 73,
   "metadata": {},
   "outputs": [],
   "source": [
    "from sklearn.preprocessing import LabelEncoder, MinMaxScaler\n",
    "from xgboost import XGBRegressor"
   ]
  },
  {
   "cell_type": "code",
   "execution_count": 74,
   "metadata": {},
   "outputs": [],
   "source": [
    "def prepareDataForXGBRegressor(data):\n",
    "    year = []\n",
    "    month = []\n",
    "    day = []\n",
    "    for el in data.Date:\n",
    "        e = str(el).split(\" \")[0].split(\"-\")\n",
    "        year.append(e[0])\n",
    "        month.append(e[1])\n",
    "        day.append(e[2])\n",
    "    data['Month'] = month\n",
    "    data['Day'] = day\n",
    "    del data['Date']\n",
    "    del data['Recovered']\n",
    "    data['Confirmed'] = data['Confirmed'].apply(int)\n",
    "    data['Infected'] = data['Infected'].apply(int)\n",
    "    data['Deaths'] = data['Deaths'].apply(int)\n",
    "    data['Month'] = data['Month'].apply(int)\n",
    "    data['Day'] = data['Day'].apply(int)"
   ]
  },
  {
   "cell_type": "code",
   "execution_count": 75,
   "metadata": {},
   "outputs": [],
   "source": [
    "lb = LabelEncoder()\n",
    "scaler = MinMaxScaler()"
   ]
  },
  {
   "cell_type": "code",
   "execution_count": 76,
   "metadata": {},
   "outputs": [
    {
     "data": {
      "text/html": [
       "<div>\n",
       "<style scoped>\n",
       "    .dataframe tbody tr th:only-of-type {\n",
       "        vertical-align: middle;\n",
       "    }\n",
       "\n",
       "    .dataframe tbody tr th {\n",
       "        vertical-align: top;\n",
       "    }\n",
       "\n",
       "    .dataframe thead th {\n",
       "        text-align: right;\n",
       "    }\n",
       "</style>\n",
       "<table border=\"1\" class=\"dataframe\">\n",
       "  <thead>\n",
       "    <tr style=\"text-align: right;\">\n",
       "      <th></th>\n",
       "      <th>Place</th>\n",
       "      <th>Month</th>\n",
       "      <th>Day</th>\n",
       "    </tr>\n",
       "  </thead>\n",
       "  <tbody>\n",
       "    <tr>\n",
       "      <th>0</th>\n",
       "      <td>74</td>\n",
       "      <td>1</td>\n",
       "      <td>22</td>\n",
       "    </tr>\n",
       "    <tr>\n",
       "      <th>1</th>\n",
       "      <td>75</td>\n",
       "      <td>1</td>\n",
       "      <td>22</td>\n",
       "    </tr>\n",
       "    <tr>\n",
       "      <th>2</th>\n",
       "      <td>76</td>\n",
       "      <td>1</td>\n",
       "      <td>22</td>\n",
       "    </tr>\n",
       "    <tr>\n",
       "      <th>3</th>\n",
       "      <td>77</td>\n",
       "      <td>1</td>\n",
       "      <td>22</td>\n",
       "    </tr>\n",
       "    <tr>\n",
       "      <th>4</th>\n",
       "      <td>78</td>\n",
       "      <td>1</td>\n",
       "      <td>22</td>\n",
       "    </tr>\n",
       "    <tr>\n",
       "      <th>...</th>\n",
       "      <td>...</td>\n",
       "      <td>...</td>\n",
       "      <td>...</td>\n",
       "    </tr>\n",
       "    <tr>\n",
       "      <th>16724</th>\n",
       "      <td>498</td>\n",
       "      <td>4</td>\n",
       "      <td>19</td>\n",
       "    </tr>\n",
       "    <tr>\n",
       "      <th>16725</th>\n",
       "      <td>102</td>\n",
       "      <td>4</td>\n",
       "      <td>19</td>\n",
       "    </tr>\n",
       "    <tr>\n",
       "      <th>16726</th>\n",
       "      <td>67</td>\n",
       "      <td>4</td>\n",
       "      <td>19</td>\n",
       "    </tr>\n",
       "    <tr>\n",
       "      <th>16727</th>\n",
       "      <td>103</td>\n",
       "      <td>4</td>\n",
       "      <td>19</td>\n",
       "    </tr>\n",
       "    <tr>\n",
       "      <th>16728</th>\n",
       "      <td>104</td>\n",
       "      <td>4</td>\n",
       "      <td>19</td>\n",
       "    </tr>\n",
       "  </tbody>\n",
       "</table>\n",
       "<p>16729 rows × 3 columns</p>\n",
       "</div>"
      ],
      "text/plain": [
       "       Place  Month  Day\n",
       "0         74      1   22\n",
       "1         75      1   22\n",
       "2         76      1   22\n",
       "3         77      1   22\n",
       "4         78      1   22\n",
       "...      ...    ...  ...\n",
       "16724    498      4   19\n",
       "16725    102      4   19\n",
       "16726     67      4   19\n",
       "16727    103      4   19\n",
       "16728    104      4   19\n",
       "\n",
       "[16729 rows x 3 columns]"
      ]
     },
     "execution_count": 76,
     "metadata": {},
     "output_type": "execute_result"
    }
   ],
   "source": [
    "XGBtraining = training.copy()\n",
    "prepareDataForXGBRegressor(XGBtraining)\n",
    "XGBtrainingLabeled = XGBtraining.copy()\n",
    "XGBtraining['Place'] = lb.fit_transform(XGBtraining['Place'])\n",
    "\n",
    "confirmed = XGBtraining.Confirmed\n",
    "deaths = XGBtraining.Deaths\n",
    "infected = XGBtraining.Infected\n",
    "\n",
    "del XGBtraining['Confirmed']\n",
    "del XGBtraining['Infected']\n",
    "del XGBtraining['Deaths']\n",
    "\n",
    "XGBtraining"
   ]
  },
  {
   "cell_type": "code",
   "execution_count": 77,
   "metadata": {},
   "outputs": [
    {
     "data": {
      "text/html": [
       "<div>\n",
       "<style scoped>\n",
       "    .dataframe tbody tr th:only-of-type {\n",
       "        vertical-align: middle;\n",
       "    }\n",
       "\n",
       "    .dataframe tbody tr th {\n",
       "        vertical-align: top;\n",
       "    }\n",
       "\n",
       "    .dataframe thead th {\n",
       "        text-align: right;\n",
       "    }\n",
       "</style>\n",
       "<table border=\"1\" class=\"dataframe\">\n",
       "  <thead>\n",
       "    <tr style=\"text-align: right;\">\n",
       "      <th></th>\n",
       "      <th>Place</th>\n",
       "      <th>Month</th>\n",
       "      <th>Day</th>\n",
       "    </tr>\n",
       "  </thead>\n",
       "  <tbody>\n",
       "    <tr>\n",
       "      <th>16729</th>\n",
       "      <td>1</td>\n",
       "      <td>4</td>\n",
       "      <td>20</td>\n",
       "    </tr>\n",
       "    <tr>\n",
       "      <th>16730</th>\n",
       "      <td>2</td>\n",
       "      <td>4</td>\n",
       "      <td>20</td>\n",
       "    </tr>\n",
       "    <tr>\n",
       "      <th>16731</th>\n",
       "      <td>3</td>\n",
       "      <td>4</td>\n",
       "      <td>20</td>\n",
       "    </tr>\n",
       "    <tr>\n",
       "      <th>16732</th>\n",
       "      <td>4</td>\n",
       "      <td>4</td>\n",
       "      <td>20</td>\n",
       "    </tr>\n",
       "    <tr>\n",
       "      <th>16733</th>\n",
       "      <td>5</td>\n",
       "      <td>4</td>\n",
       "      <td>20</td>\n",
       "    </tr>\n",
       "    <tr>\n",
       "      <th>...</th>\n",
       "      <td>...</td>\n",
       "      <td>...</td>\n",
       "      <td>...</td>\n",
       "    </tr>\n",
       "    <tr>\n",
       "      <th>18322</th>\n",
       "      <td>498</td>\n",
       "      <td>4</td>\n",
       "      <td>24</td>\n",
       "    </tr>\n",
       "    <tr>\n",
       "      <th>18323</th>\n",
       "      <td>102</td>\n",
       "      <td>4</td>\n",
       "      <td>24</td>\n",
       "    </tr>\n",
       "    <tr>\n",
       "      <th>18324</th>\n",
       "      <td>67</td>\n",
       "      <td>4</td>\n",
       "      <td>24</td>\n",
       "    </tr>\n",
       "    <tr>\n",
       "      <th>18325</th>\n",
       "      <td>103</td>\n",
       "      <td>4</td>\n",
       "      <td>24</td>\n",
       "    </tr>\n",
       "    <tr>\n",
       "      <th>18326</th>\n",
       "      <td>104</td>\n",
       "      <td>4</td>\n",
       "      <td>24</td>\n",
       "    </tr>\n",
       "  </tbody>\n",
       "</table>\n",
       "<p>1598 rows × 3 columns</p>\n",
       "</div>"
      ],
      "text/plain": [
       "       Place  Month  Day\n",
       "16729      1      4   20\n",
       "16730      2      4   20\n",
       "16731      3      4   20\n",
       "16732      4      4   20\n",
       "16733      5      4   20\n",
       "...      ...    ...  ...\n",
       "18322    498      4   24\n",
       "18323    102      4   24\n",
       "18324     67      4   24\n",
       "18325    103      4   24\n",
       "18326    104      4   24\n",
       "\n",
       "[1598 rows x 3 columns]"
      ]
     },
     "execution_count": 77,
     "metadata": {},
     "output_type": "execute_result"
    }
   ],
   "source": [
    "XGBtestWithAnswers = test.copy()\n",
    "prepareDataForXGBRegressor(XGBtestWithAnswers)\n",
    "XGBtest = XGBtestWithAnswers.copy()\n",
    "del XGBtest['Confirmed']\n",
    "del XGBtest['Infected']\n",
    "del XGBtest['Deaths']\n",
    "XGBtest['Place'] = lb.transform(XGBtest['Place'])\n",
    "XGBtest"
   ]
  },
  {
   "cell_type": "code",
   "execution_count": 78,
   "metadata": {},
   "outputs": [],
   "source": [
    "x_train = scaler.fit_transform(XGBtraining.values)\n",
    "x_test = scaler.transform(XGBtest.values)"
   ]
  },
  {
   "cell_type": "code",
   "execution_count": 79,
   "metadata": {},
   "outputs": [],
   "source": [
    "# minErr = 1000000000\n",
    "# minD = 0\n",
    "# minE = 0\n",
    "# estimators = list(range(100,2000, 100))\n",
    "# depth = list(range(4,6,1))\n",
    "# for d in depth:\n",
    "#     for e in estimators: \n",
    "#         rf = XGBRegressor(n_estimators = e , random_state = 0 , max_depth = d)\n",
    "#         rf.fit(x_train,confirmed)\n",
    "#         cases_pred = rf.predict(x_test)\n",
    "#         t = XGBtestWithAnswers.copy()\n",
    "#         t[\"predicted_confirmed\"] = cases_pred\n",
    "#         germany = t[t['Place'] == 'Germany -']\n",
    "#         N = len(germany.predicted_confirmed)\n",
    "#         err = 1/N * (np.square(germany.predicted_confirmed - germany.Confirmed)).sum()\n",
    "#         print(d, e, err)\n",
    "#         if(err< minErr):\n",
    "#             print(\"NEW MIN !!!!!\" + str(err))\n",
    "#             minErr = err\n",
    "#             minD = d\n",
    "#             minE = e"
   ]
  },
  {
   "cell_type": "code",
   "execution_count": 80,
   "metadata": {},
   "outputs": [
    {
     "data": {
      "text/plain": [
       "XGBRegressor(base_score=0.5, booster=None, colsample_bylevel=1,\n",
       "             colsample_bynode=1, colsample_bytree=1, gamma=0, gpu_id=-1,\n",
       "             importance_type='gain', interaction_constraints=None,\n",
       "             learning_rate=0.300000012, max_delta_step=0, max_depth=4,\n",
       "             min_child_weight=1, missing=nan, monotone_constraints=None,\n",
       "             n_estimators=1800, n_jobs=0, num_parallel_tree=1,\n",
       "             objective='reg:squarederror', random_state=0, reg_alpha=0,\n",
       "             reg_lambda=1, scale_pos_weight=1, subsample=1, tree_method=None,\n",
       "             validate_parameters=False, verbosity=None)"
      ]
     },
     "execution_count": 80,
     "metadata": {},
     "output_type": "execute_result"
    }
   ],
   "source": [
    "rf1 = XGBRegressor(n_estimators = 1800 , random_state = 0 , max_depth = 4)\n",
    "rf1.fit(x_train,confirmed)\n",
    "\n",
    "rf = XGBRegressor(n_estimators = 200000)\n",
    "rf.fit(x_train,confirmed)\n",
    "\n",
    "\n",
    "rfd = XGBRegressor(n_estimators = 1800 , random_state = 0 , max_depth = 4)\n",
    "rfd.fit(x_train,deaths)"
   ]
  },
  {
   "cell_type": "code",
   "execution_count": 81,
   "metadata": {},
   "outputs": [
    {
     "data": {
      "text/plain": [
       "array([ 927.9331  ,  575.9799  , 2576.4434  , ...,    3.521155,\n",
       "        -85.050186,  885.3424  ], dtype=float32)"
      ]
     },
     "execution_count": 81,
     "metadata": {},
     "output_type": "execute_result"
    }
   ],
   "source": [
    "cases_pred1 = rf1.predict(x_test)\n",
    "cases_pred = rf.predict(x_test)\n",
    "deths_pred = rfd.predict(x_test)\n",
    "\n",
    "cases_pred_train1 = rf1.predict(x_train)\n",
    "cases_pred_train = rf.predict(x_train)\n",
    "deths_pred_train = rfd.predict(x_train)\n",
    "cases_pred"
   ]
  },
  {
   "cell_type": "code",
   "execution_count": 82,
   "metadata": {},
   "outputs": [
    {
     "data": {
      "text/html": [
       "<div>\n",
       "<style scoped>\n",
       "    .dataframe tbody tr th:only-of-type {\n",
       "        vertical-align: middle;\n",
       "    }\n",
       "\n",
       "    .dataframe tbody tr th {\n",
       "        vertical-align: top;\n",
       "    }\n",
       "\n",
       "    .dataframe thead th {\n",
       "        text-align: right;\n",
       "    }\n",
       "</style>\n",
       "<table border=\"1\" class=\"dataframe\">\n",
       "  <thead>\n",
       "    <tr style=\"text-align: right;\">\n",
       "      <th></th>\n",
       "      <th>Confirmed</th>\n",
       "      <th>Infected</th>\n",
       "      <th>Deaths</th>\n",
       "      <th>Place</th>\n",
       "      <th>Month</th>\n",
       "      <th>Day</th>\n",
       "      <th>predicted_confirmed</th>\n",
       "      <th>predicted_confirmed1</th>\n",
       "      <th>predicted_deaths</th>\n",
       "    </tr>\n",
       "  </thead>\n",
       "  <tbody>\n",
       "    <tr>\n",
       "      <th>16729</th>\n",
       "      <td>1026</td>\n",
       "      <td>855</td>\n",
       "      <td>36</td>\n",
       "      <td>Afghanistan -</td>\n",
       "      <td>4</td>\n",
       "      <td>20</td>\n",
       "      <td>927.933105</td>\n",
       "      <td>882.649841</td>\n",
       "      <td>28.137831</td>\n",
       "    </tr>\n",
       "    <tr>\n",
       "      <th>16730</th>\n",
       "      <td>584</td>\n",
       "      <td>231</td>\n",
       "      <td>26</td>\n",
       "      <td>Albania -</td>\n",
       "      <td>4</td>\n",
       "      <td>20</td>\n",
       "      <td>575.979919</td>\n",
       "      <td>726.959900</td>\n",
       "      <td>31.367586</td>\n",
       "    </tr>\n",
       "    <tr>\n",
       "      <th>16731</th>\n",
       "      <td>2718</td>\n",
       "      <td>1235</td>\n",
       "      <td>384</td>\n",
       "      <td>Algeria -</td>\n",
       "      <td>4</td>\n",
       "      <td>20</td>\n",
       "      <td>2576.443359</td>\n",
       "      <td>2429.119385</td>\n",
       "      <td>360.177399</td>\n",
       "    </tr>\n",
       "    <tr>\n",
       "      <th>16732</th>\n",
       "      <td>717</td>\n",
       "      <td>432</td>\n",
       "      <td>37</td>\n",
       "      <td>Andorra -</td>\n",
       "      <td>4</td>\n",
       "      <td>20</td>\n",
       "      <td>715.620361</td>\n",
       "      <td>867.869202</td>\n",
       "      <td>39.002972</td>\n",
       "    </tr>\n",
       "    <tr>\n",
       "      <th>16733</th>\n",
       "      <td>24</td>\n",
       "      <td>16</td>\n",
       "      <td>2</td>\n",
       "      <td>Angola -</td>\n",
       "      <td>4</td>\n",
       "      <td>20</td>\n",
       "      <td>21.994886</td>\n",
       "      <td>168.818420</td>\n",
       "      <td>7.138822</td>\n",
       "    </tr>\n",
       "    <tr>\n",
       "      <th>...</th>\n",
       "      <td>...</td>\n",
       "      <td>...</td>\n",
       "      <td>...</td>\n",
       "      <td>...</td>\n",
       "      <td>...</td>\n",
       "      <td>...</td>\n",
       "      <td>...</td>\n",
       "      <td>...</td>\n",
       "      <td>...</td>\n",
       "    </tr>\n",
       "    <tr>\n",
       "      <th>18322</th>\n",
       "      <td>473</td>\n",
       "      <td>466</td>\n",
       "      <td>7</td>\n",
       "      <td>US Wyoming</td>\n",
       "      <td>4</td>\n",
       "      <td>24</td>\n",
       "      <td>382.699341</td>\n",
       "      <td>890.417297</td>\n",
       "      <td>11.443136</td>\n",
       "    </tr>\n",
       "    <tr>\n",
       "      <th>18323</th>\n",
       "      <td>76</td>\n",
       "      <td>0</td>\n",
       "      <td>3</td>\n",
       "      <td>China Xinjiang</td>\n",
       "      <td>4</td>\n",
       "      <td>24</td>\n",
       "      <td>-180.110153</td>\n",
       "      <td>30.577114</td>\n",
       "      <td>-0.169880</td>\n",
       "    </tr>\n",
       "    <tr>\n",
       "      <th>18324</th>\n",
       "      <td>11</td>\n",
       "      <td>11</td>\n",
       "      <td>0</td>\n",
       "      <td>Canada Yukon</td>\n",
       "      <td>4</td>\n",
       "      <td>24</td>\n",
       "      <td>3.521155</td>\n",
       "      <td>191.231125</td>\n",
       "      <td>17.806404</td>\n",
       "    </tr>\n",
       "    <tr>\n",
       "      <th>18325</th>\n",
       "      <td>185</td>\n",
       "      <td>3</td>\n",
       "      <td>2</td>\n",
       "      <td>China Yunnan</td>\n",
       "      <td>4</td>\n",
       "      <td>24</td>\n",
       "      <td>-85.050186</td>\n",
       "      <td>160.084244</td>\n",
       "      <td>2.600094</td>\n",
       "    </tr>\n",
       "    <tr>\n",
       "      <th>18326</th>\n",
       "      <td>1268</td>\n",
       "      <td>11</td>\n",
       "      <td>1</td>\n",
       "      <td>China Zhejiang</td>\n",
       "      <td>4</td>\n",
       "      <td>24</td>\n",
       "      <td>885.342407</td>\n",
       "      <td>1494.829712</td>\n",
       "      <td>3.083998</td>\n",
       "    </tr>\n",
       "  </tbody>\n",
       "</table>\n",
       "<p>1598 rows × 9 columns</p>\n",
       "</div>"
      ],
      "text/plain": [
       "       Confirmed  Infected  Deaths           Place  Month  Day  \\\n",
       "16729       1026       855      36   Afghanistan -      4   20   \n",
       "16730        584       231      26       Albania -      4   20   \n",
       "16731       2718      1235     384       Algeria -      4   20   \n",
       "16732        717       432      37       Andorra -      4   20   \n",
       "16733         24        16       2        Angola -      4   20   \n",
       "...          ...       ...     ...             ...    ...  ...   \n",
       "18322        473       466       7      US Wyoming      4   24   \n",
       "18323         76         0       3  China Xinjiang      4   24   \n",
       "18324         11        11       0    Canada Yukon      4   24   \n",
       "18325        185         3       2    China Yunnan      4   24   \n",
       "18326       1268        11       1  China Zhejiang      4   24   \n",
       "\n",
       "       predicted_confirmed  predicted_confirmed1  predicted_deaths  \n",
       "16729           927.933105            882.649841         28.137831  \n",
       "16730           575.979919            726.959900         31.367586  \n",
       "16731          2576.443359           2429.119385        360.177399  \n",
       "16732           715.620361            867.869202         39.002972  \n",
       "16733            21.994886            168.818420          7.138822  \n",
       "...                    ...                   ...               ...  \n",
       "18322           382.699341            890.417297         11.443136  \n",
       "18323          -180.110153             30.577114         -0.169880  \n",
       "18324             3.521155            191.231125         17.806404  \n",
       "18325           -85.050186            160.084244          2.600094  \n",
       "18326           885.342407           1494.829712          3.083998  \n",
       "\n",
       "[1598 rows x 9 columns]"
      ]
     },
     "execution_count": 82,
     "metadata": {},
     "output_type": "execute_result"
    }
   ],
   "source": [
    "XGBtestWithAnswers[\"predicted_confirmed\"] = cases_pred\n",
    "XGBtestWithAnswers[\"predicted_confirmed1\"] = cases_pred1\n",
    "XGBtestWithAnswers[\"predicted_deaths\"] = deths_pred\n",
    "XGBtestWithAnswers"
   ]
  },
  {
   "cell_type": "code",
   "execution_count": 83,
   "metadata": {},
   "outputs": [
    {
     "data": {
      "text/html": [
       "<div>\n",
       "<style scoped>\n",
       "    .dataframe tbody tr th:only-of-type {\n",
       "        vertical-align: middle;\n",
       "    }\n",
       "\n",
       "    .dataframe tbody tr th {\n",
       "        vertical-align: top;\n",
       "    }\n",
       "\n",
       "    .dataframe thead th {\n",
       "        text-align: right;\n",
       "    }\n",
       "</style>\n",
       "<table border=\"1\" class=\"dataframe\">\n",
       "  <thead>\n",
       "    <tr style=\"text-align: right;\">\n",
       "      <th></th>\n",
       "      <th>Confirmed</th>\n",
       "      <th>Infected</th>\n",
       "      <th>Deaths</th>\n",
       "      <th>Place</th>\n",
       "      <th>Month</th>\n",
       "      <th>Day</th>\n",
       "      <th>predicted_confirmed</th>\n",
       "      <th>predicted_confirmed1</th>\n",
       "      <th>predicted_deaths</th>\n",
       "    </tr>\n",
       "  </thead>\n",
       "  <tbody>\n",
       "    <tr>\n",
       "      <th>0</th>\n",
       "      <td>1</td>\n",
       "      <td>1</td>\n",
       "      <td>0</td>\n",
       "      <td>China Anhui</td>\n",
       "      <td>1</td>\n",
       "      <td>22</td>\n",
       "      <td>0.991609</td>\n",
       "      <td>47.616783</td>\n",
       "      <td>1.580058</td>\n",
       "    </tr>\n",
       "    <tr>\n",
       "      <th>1</th>\n",
       "      <td>14</td>\n",
       "      <td>14</td>\n",
       "      <td>0</td>\n",
       "      <td>China Beijing</td>\n",
       "      <td>1</td>\n",
       "      <td>22</td>\n",
       "      <td>14.012419</td>\n",
       "      <td>-40.150955</td>\n",
       "      <td>1.390967</td>\n",
       "    </tr>\n",
       "    <tr>\n",
       "      <th>2</th>\n",
       "      <td>6</td>\n",
       "      <td>6</td>\n",
       "      <td>0</td>\n",
       "      <td>China Chongqing</td>\n",
       "      <td>1</td>\n",
       "      <td>22</td>\n",
       "      <td>5.995695</td>\n",
       "      <td>87.248802</td>\n",
       "      <td>2.024722</td>\n",
       "    </tr>\n",
       "    <tr>\n",
       "      <th>3</th>\n",
       "      <td>1</td>\n",
       "      <td>1</td>\n",
       "      <td>0</td>\n",
       "      <td>China Fujian</td>\n",
       "      <td>1</td>\n",
       "      <td>22</td>\n",
       "      <td>0.992737</td>\n",
       "      <td>-8.101639</td>\n",
       "      <td>0.362955</td>\n",
       "    </tr>\n",
       "    <tr>\n",
       "      <th>4</th>\n",
       "      <td>0</td>\n",
       "      <td>0</td>\n",
       "      <td>0</td>\n",
       "      <td>China Gansu</td>\n",
       "      <td>1</td>\n",
       "      <td>22</td>\n",
       "      <td>0.014883</td>\n",
       "      <td>-45.289734</td>\n",
       "      <td>0.266226</td>\n",
       "    </tr>\n",
       "    <tr>\n",
       "      <th>...</th>\n",
       "      <td>...</td>\n",
       "      <td>...</td>\n",
       "      <td>...</td>\n",
       "      <td>...</td>\n",
       "      <td>...</td>\n",
       "      <td>...</td>\n",
       "      <td>...</td>\n",
       "      <td>...</td>\n",
       "      <td>...</td>\n",
       "    </tr>\n",
       "    <tr>\n",
       "      <th>16724</th>\n",
       "      <td>313</td>\n",
       "      <td>311</td>\n",
       "      <td>2</td>\n",
       "      <td>US Wyoming</td>\n",
       "      <td>4</td>\n",
       "      <td>19</td>\n",
       "      <td>313.028198</td>\n",
       "      <td>769.080811</td>\n",
       "      <td>18.579535</td>\n",
       "    </tr>\n",
       "    <tr>\n",
       "      <th>16725</th>\n",
       "      <td>76</td>\n",
       "      <td>0</td>\n",
       "      <td>3</td>\n",
       "      <td>China Xinjiang</td>\n",
       "      <td>4</td>\n",
       "      <td>19</td>\n",
       "      <td>76.036522</td>\n",
       "      <td>75.544449</td>\n",
       "      <td>5.325396</td>\n",
       "    </tr>\n",
       "    <tr>\n",
       "      <th>16726</th>\n",
       "      <td>9</td>\n",
       "      <td>9</td>\n",
       "      <td>0</td>\n",
       "      <td>Canada Yukon</td>\n",
       "      <td>4</td>\n",
       "      <td>19</td>\n",
       "      <td>8.983722</td>\n",
       "      <td>182.635025</td>\n",
       "      <td>10.558747</td>\n",
       "    </tr>\n",
       "    <tr>\n",
       "      <th>16727</th>\n",
       "      <td>184</td>\n",
       "      <td>4</td>\n",
       "      <td>2</td>\n",
       "      <td>China Yunnan</td>\n",
       "      <td>4</td>\n",
       "      <td>19</td>\n",
       "      <td>183.934708</td>\n",
       "      <td>205.051666</td>\n",
       "      <td>7.096083</td>\n",
       "    </tr>\n",
       "    <tr>\n",
       "      <th>16728</th>\n",
       "      <td>1268</td>\n",
       "      <td>20</td>\n",
       "      <td>1</td>\n",
       "      <td>China Zhejiang</td>\n",
       "      <td>4</td>\n",
       "      <td>19</td>\n",
       "      <td>1268.058105</td>\n",
       "      <td>1638.656616</td>\n",
       "      <td>7.174294</td>\n",
       "    </tr>\n",
       "  </tbody>\n",
       "</table>\n",
       "<p>16729 rows × 9 columns</p>\n",
       "</div>"
      ],
      "text/plain": [
       "       Confirmed  Infected  Deaths            Place  Month  Day  \\\n",
       "0              1         1       0      China Anhui      1   22   \n",
       "1             14        14       0    China Beijing      1   22   \n",
       "2              6         6       0  China Chongqing      1   22   \n",
       "3              1         1       0     China Fujian      1   22   \n",
       "4              0         0       0      China Gansu      1   22   \n",
       "...          ...       ...     ...              ...    ...  ...   \n",
       "16724        313       311       2       US Wyoming      4   19   \n",
       "16725         76         0       3   China Xinjiang      4   19   \n",
       "16726          9         9       0     Canada Yukon      4   19   \n",
       "16727        184         4       2     China Yunnan      4   19   \n",
       "16728       1268        20       1   China Zhejiang      4   19   \n",
       "\n",
       "       predicted_confirmed  predicted_confirmed1  predicted_deaths  \n",
       "0                 0.991609             47.616783          1.580058  \n",
       "1                14.012419            -40.150955          1.390967  \n",
       "2                 5.995695             87.248802          2.024722  \n",
       "3                 0.992737             -8.101639          0.362955  \n",
       "4                 0.014883            -45.289734          0.266226  \n",
       "...                    ...                   ...               ...  \n",
       "16724           313.028198            769.080811         18.579535  \n",
       "16725            76.036522             75.544449          5.325396  \n",
       "16726             8.983722            182.635025         10.558747  \n",
       "16727           183.934708            205.051666          7.096083  \n",
       "16728          1268.058105           1638.656616          7.174294  \n",
       "\n",
       "[16729 rows x 9 columns]"
      ]
     },
     "execution_count": 83,
     "metadata": {},
     "output_type": "execute_result"
    }
   ],
   "source": [
    "XGBtrainingLabeled[\"predicted_confirmed\"] = cases_pred_train\n",
    "XGBtrainingLabeled[\"predicted_confirmed1\"] = cases_pred_train1\n",
    "XGBtrainingLabeled[\"predicted_deaths\"] = deths_pred_train\n",
    "XGBtrainingLabeled"
   ]
  },
  {
   "cell_type": "markdown",
   "metadata": {},
   "source": [
    "# Germany"
   ]
  },
  {
   "cell_type": "code",
   "execution_count": 84,
   "metadata": {},
   "outputs": [
    {
     "data": {
      "text/html": [
       "<div>\n",
       "<style scoped>\n",
       "    .dataframe tbody tr th:only-of-type {\n",
       "        vertical-align: middle;\n",
       "    }\n",
       "\n",
       "    .dataframe tbody tr th {\n",
       "        vertical-align: top;\n",
       "    }\n",
       "\n",
       "    .dataframe thead th {\n",
       "        text-align: right;\n",
       "    }\n",
       "</style>\n",
       "<table border=\"1\" class=\"dataframe\">\n",
       "  <thead>\n",
       "    <tr style=\"text-align: right;\">\n",
       "      <th></th>\n",
       "      <th>Confirmed</th>\n",
       "      <th>Infected</th>\n",
       "      <th>Deaths</th>\n",
       "      <th>Place</th>\n",
       "      <th>Month</th>\n",
       "      <th>Day</th>\n",
       "      <th>predicted_confirmed</th>\n",
       "      <th>predicted_confirmed1</th>\n",
       "      <th>predicted_deaths</th>\n",
       "    </tr>\n",
       "  </thead>\n",
       "  <tbody>\n",
       "    <tr>\n",
       "      <th>530</th>\n",
       "      <td>8</td>\n",
       "      <td>8</td>\n",
       "      <td>0</td>\n",
       "      <td>Germany -</td>\n",
       "      <td>2</td>\n",
       "      <td>1</td>\n",
       "      <td>8.001757</td>\n",
       "      <td>-135.643600</td>\n",
       "      <td>44.028427</td>\n",
       "    </tr>\n",
       "    <tr>\n",
       "      <th>595</th>\n",
       "      <td>10</td>\n",
       "      <td>10</td>\n",
       "      <td>0</td>\n",
       "      <td>Germany -</td>\n",
       "      <td>2</td>\n",
       "      <td>2</td>\n",
       "      <td>10.004848</td>\n",
       "      <td>148.364685</td>\n",
       "      <td>4.514588</td>\n",
       "    </tr>\n",
       "    <tr>\n",
       "      <th>662</th>\n",
       "      <td>12</td>\n",
       "      <td>12</td>\n",
       "      <td>0</td>\n",
       "      <td>Germany -</td>\n",
       "      <td>2</td>\n",
       "      <td>3</td>\n",
       "      <td>11.991415</td>\n",
       "      <td>23.535242</td>\n",
       "      <td>7.138055</td>\n",
       "    </tr>\n",
       "    <tr>\n",
       "      <th>730</th>\n",
       "      <td>12</td>\n",
       "      <td>12</td>\n",
       "      <td>0</td>\n",
       "      <td>Germany -</td>\n",
       "      <td>2</td>\n",
       "      <td>4</td>\n",
       "      <td>11.992772</td>\n",
       "      <td>-116.081131</td>\n",
       "      <td>52.177158</td>\n",
       "    </tr>\n",
       "    <tr>\n",
       "      <th>800</th>\n",
       "      <td>12</td>\n",
       "      <td>12</td>\n",
       "      <td>0</td>\n",
       "      <td>Germany -</td>\n",
       "      <td>2</td>\n",
       "      <td>5</td>\n",
       "      <td>12.038644</td>\n",
       "      <td>114.760834</td>\n",
       "      <td>-30.830944</td>\n",
       "    </tr>\n",
       "    <tr>\n",
       "      <th>...</th>\n",
       "      <td>...</td>\n",
       "      <td>...</td>\n",
       "      <td>...</td>\n",
       "      <td>...</td>\n",
       "      <td>...</td>\n",
       "      <td>...</td>\n",
       "      <td>...</td>\n",
       "      <td>...</td>\n",
       "      <td>...</td>\n",
       "    </tr>\n",
       "    <tr>\n",
       "      <th>15190</th>\n",
       "      <td>134753</td>\n",
       "      <td>58349</td>\n",
       "      <td>3804</td>\n",
       "      <td>Germany -</td>\n",
       "      <td>4</td>\n",
       "      <td>15</td>\n",
       "      <td>134752.828125</td>\n",
       "      <td>135941.890625</td>\n",
       "      <td>3754.821045</td>\n",
       "    </tr>\n",
       "    <tr>\n",
       "      <th>15510</th>\n",
       "      <td>137698</td>\n",
       "      <td>56646</td>\n",
       "      <td>4052</td>\n",
       "      <td>Germany -</td>\n",
       "      <td>4</td>\n",
       "      <td>16</td>\n",
       "      <td>137698.015625</td>\n",
       "      <td>137827.218750</td>\n",
       "      <td>3917.670166</td>\n",
       "    </tr>\n",
       "    <tr>\n",
       "      <th>15830</th>\n",
       "      <td>141397</td>\n",
       "      <td>53931</td>\n",
       "      <td>4352</td>\n",
       "      <td>Germany -</td>\n",
       "      <td>4</td>\n",
       "      <td>17</td>\n",
       "      <td>141397.156250</td>\n",
       "      <td>140395.562500</td>\n",
       "      <td>4246.233887</td>\n",
       "    </tr>\n",
       "    <tr>\n",
       "      <th>16150</th>\n",
       "      <td>143342</td>\n",
       "      <td>53483</td>\n",
       "      <td>4459</td>\n",
       "      <td>Germany -</td>\n",
       "      <td>4</td>\n",
       "      <td>18</td>\n",
       "      <td>143341.859375</td>\n",
       "      <td>141100.453125</td>\n",
       "      <td>4323.441406</td>\n",
       "    </tr>\n",
       "    <tr>\n",
       "      <th>16470</th>\n",
       "      <td>145184</td>\n",
       "      <td>52598</td>\n",
       "      <td>4586</td>\n",
       "      <td>Germany -</td>\n",
       "      <td>4</td>\n",
       "      <td>19</td>\n",
       "      <td>145184.046875</td>\n",
       "      <td>145019.140625</td>\n",
       "      <td>4605.106445</td>\n",
       "    </tr>\n",
       "  </tbody>\n",
       "</table>\n",
       "<p>79 rows × 9 columns</p>\n",
       "</div>"
      ],
      "text/plain": [
       "       Confirmed  Infected  Deaths      Place  Month  Day  \\\n",
       "530            8         8       0  Germany -      2    1   \n",
       "595           10        10       0  Germany -      2    2   \n",
       "662           12        12       0  Germany -      2    3   \n",
       "730           12        12       0  Germany -      2    4   \n",
       "800           12        12       0  Germany -      2    5   \n",
       "...          ...       ...     ...        ...    ...  ...   \n",
       "15190     134753     58349    3804  Germany -      4   15   \n",
       "15510     137698     56646    4052  Germany -      4   16   \n",
       "15830     141397     53931    4352  Germany -      4   17   \n",
       "16150     143342     53483    4459  Germany -      4   18   \n",
       "16470     145184     52598    4586  Germany -      4   19   \n",
       "\n",
       "       predicted_confirmed  predicted_confirmed1  predicted_deaths  \n",
       "530               8.001757           -135.643600         44.028427  \n",
       "595              10.004848            148.364685          4.514588  \n",
       "662              11.991415             23.535242          7.138055  \n",
       "730              11.992772           -116.081131         52.177158  \n",
       "800              12.038644            114.760834        -30.830944  \n",
       "...                    ...                   ...               ...  \n",
       "15190        134752.828125         135941.890625       3754.821045  \n",
       "15510        137698.015625         137827.218750       3917.670166  \n",
       "15830        141397.156250         140395.562500       4246.233887  \n",
       "16150        143341.859375         141100.453125       4323.441406  \n",
       "16470        145184.046875         145019.140625       4605.106445  \n",
       "\n",
       "[79 rows x 9 columns]"
      ]
     },
     "execution_count": 84,
     "metadata": {},
     "output_type": "execute_result"
    }
   ],
   "source": [
    "germany =  XGBtrainingLabeled[XGBtrainingLabeled['Place'] == 'Germany -']\n",
    "N = len(germany.predicted_confirmed)\n",
    "germany"
   ]
  },
  {
   "cell_type": "code",
   "execution_count": 85,
   "metadata": {},
   "outputs": [
    {
     "data": {
      "text/plain": [
       "0.014199713816047227"
      ]
     },
     "execution_count": 85,
     "metadata": {},
     "output_type": "execute_result"
    }
   ],
   "source": [
    "1/N * (np.square(germany.predicted_confirmed - germany.Confirmed)).sum()"
   ]
  },
  {
   "cell_type": "code",
   "execution_count": 86,
   "metadata": {},
   "outputs": [
    {
     "data": {
      "text/plain": [
       "3449933.553320088"
      ]
     },
     "execution_count": 86,
     "metadata": {},
     "output_type": "execute_result"
    }
   ],
   "source": [
    "1/N * (np.square(germany.predicted_confirmed1 - germany.Confirmed)).sum()"
   ]
  },
  {
   "cell_type": "code",
   "execution_count": 87,
   "metadata": {},
   "outputs": [
    {
     "data": {
      "text/plain": [
       "3408.1069465002915"
      ]
     },
     "execution_count": 87,
     "metadata": {},
     "output_type": "execute_result"
    }
   ],
   "source": [
    "1/N * (np.square(germany.predicted_deaths - germany.Deaths)).sum()"
   ]
  },
  {
   "cell_type": "code",
   "execution_count": 88,
   "metadata": {},
   "outputs": [
    {
     "data": {
      "text/html": [
       "<div>\n",
       "<style scoped>\n",
       "    .dataframe tbody tr th:only-of-type {\n",
       "        vertical-align: middle;\n",
       "    }\n",
       "\n",
       "    .dataframe tbody tr th {\n",
       "        vertical-align: top;\n",
       "    }\n",
       "\n",
       "    .dataframe thead th {\n",
       "        text-align: right;\n",
       "    }\n",
       "</style>\n",
       "<table border=\"1\" class=\"dataframe\">\n",
       "  <thead>\n",
       "    <tr style=\"text-align: right;\">\n",
       "      <th></th>\n",
       "      <th>Confirmed</th>\n",
       "      <th>Infected</th>\n",
       "      <th>Deaths</th>\n",
       "      <th>Place</th>\n",
       "      <th>Month</th>\n",
       "      <th>Day</th>\n",
       "      <th>predicted_confirmed</th>\n",
       "      <th>predicted_confirmed1</th>\n",
       "      <th>predicted_deaths</th>\n",
       "    </tr>\n",
       "  </thead>\n",
       "  <tbody>\n",
       "    <tr>\n",
       "      <th>16790</th>\n",
       "      <td>147065</td>\n",
       "      <td>50703</td>\n",
       "      <td>4862</td>\n",
       "      <td>Germany -</td>\n",
       "      <td>4</td>\n",
       "      <td>20</td>\n",
       "      <td>146754.890625</td>\n",
       "      <td>145320.078125</td>\n",
       "      <td>4610.037598</td>\n",
       "    </tr>\n",
       "    <tr>\n",
       "      <th>17110</th>\n",
       "      <td>148291</td>\n",
       "      <td>48058</td>\n",
       "      <td>5033</td>\n",
       "      <td>Germany -</td>\n",
       "      <td>4</td>\n",
       "      <td>21</td>\n",
       "      <td>143048.968750</td>\n",
       "      <td>146171.156250</td>\n",
       "      <td>4615.177734</td>\n",
       "    </tr>\n",
       "    <tr>\n",
       "      <th>17430</th>\n",
       "      <td>150648</td>\n",
       "      <td>45969</td>\n",
       "      <td>5279</td>\n",
       "      <td>Germany -</td>\n",
       "      <td>4</td>\n",
       "      <td>22</td>\n",
       "      <td>145158.421875</td>\n",
       "      <td>146527.703125</td>\n",
       "      <td>4612.774902</td>\n",
       "    </tr>\n",
       "    <tr>\n",
       "      <th>17749</th>\n",
       "      <td>153129</td>\n",
       "      <td>44254</td>\n",
       "      <td>5575</td>\n",
       "      <td>Germany -</td>\n",
       "      <td>4</td>\n",
       "      <td>23</td>\n",
       "      <td>145040.187500</td>\n",
       "      <td>152272.859375</td>\n",
       "      <td>4633.860840</td>\n",
       "    </tr>\n",
       "    <tr>\n",
       "      <th>18069</th>\n",
       "      <td>154999</td>\n",
       "      <td>39439</td>\n",
       "      <td>5760</td>\n",
       "      <td>Germany -</td>\n",
       "      <td>4</td>\n",
       "      <td>24</td>\n",
       "      <td>146058.875000</td>\n",
       "      <td>151534.187500</td>\n",
       "      <td>4644.781250</td>\n",
       "    </tr>\n",
       "  </tbody>\n",
       "</table>\n",
       "</div>"
      ],
      "text/plain": [
       "       Confirmed  Infected  Deaths      Place  Month  Day  \\\n",
       "16790     147065     50703    4862  Germany -      4   20   \n",
       "17110     148291     48058    5033  Germany -      4   21   \n",
       "17430     150648     45969    5279  Germany -      4   22   \n",
       "17749     153129     44254    5575  Germany -      4   23   \n",
       "18069     154999     39439    5760  Germany -      4   24   \n",
       "\n",
       "       predicted_confirmed  predicted_confirmed1  predicted_deaths  \n",
       "16790        146754.890625         145320.078125       4610.037598  \n",
       "17110        143048.968750         146171.156250       4615.177734  \n",
       "17430        145158.421875         146527.703125       4612.774902  \n",
       "17749        145040.187500         152272.859375       4633.860840  \n",
       "18069        146058.875000         151534.187500       4644.781250  "
      ]
     },
     "execution_count": 88,
     "metadata": {},
     "output_type": "execute_result"
    }
   ],
   "source": [
    "germany = XGBtestWithAnswers[XGBtestWithAnswers['Place'] == 'Germany -']\n",
    "N = len(germany.predicted_confirmed)\n",
    "germany"
   ]
  },
  {
   "cell_type": "code",
   "execution_count": 89,
   "metadata": {},
   "outputs": [
    {
     "data": {
      "text/plain": [
       "40613050.023339845"
      ]
     },
     "execution_count": 89,
     "metadata": {},
     "output_type": "execute_result"
    }
   ],
   "source": [
    "1/N * (np.square(germany.predicted_confirmed - germany.Confirmed)).sum()"
   ]
  },
  {
   "cell_type": "code",
   "execution_count": 90,
   "metadata": {},
   "outputs": [
    {
     "data": {
      "text/plain": [
       "7450647.728466798"
      ]
     },
     "execution_count": 90,
     "metadata": {},
     "output_type": "execute_result"
    }
   ],
   "source": [
    "1/N * (np.square(germany.predicted_confirmed1 - germany.Confirmed)).sum()"
   ]
  },
  {
   "cell_type": "code",
   "execution_count": 91,
   "metadata": {},
   "outputs": [
    {
     "data": {
      "text/plain": [
       "562274.4315450191"
      ]
     },
     "execution_count": 91,
     "metadata": {},
     "output_type": "execute_result"
    }
   ],
   "source": [
    "1/N * (np.square(germany.predicted_deaths - germany.Deaths)).sum()"
   ]
  },
  {
   "cell_type": "markdown",
   "metadata": {},
   "source": [
    "# Global"
   ]
  },
  {
   "cell_type": "code",
   "execution_count": 92,
   "metadata": {},
   "outputs": [
    {
     "data": {
      "text/html": [
       "<div>\n",
       "<style scoped>\n",
       "    .dataframe tbody tr th:only-of-type {\n",
       "        vertical-align: middle;\n",
       "    }\n",
       "\n",
       "    .dataframe tbody tr th {\n",
       "        vertical-align: top;\n",
       "    }\n",
       "\n",
       "    .dataframe thead th {\n",
       "        text-align: right;\n",
       "    }\n",
       "</style>\n",
       "<table border=\"1\" class=\"dataframe\">\n",
       "  <thead>\n",
       "    <tr style=\"text-align: right;\">\n",
       "      <th></th>\n",
       "      <th>Confirmed</th>\n",
       "      <th>Infected</th>\n",
       "      <th>Deaths</th>\n",
       "      <th>predicted_confirmed</th>\n",
       "      <th>predicted_confirmed1</th>\n",
       "      <th>predicted_deaths</th>\n",
       "    </tr>\n",
       "    <tr>\n",
       "      <th>Date</th>\n",
       "      <th></th>\n",
       "      <th></th>\n",
       "      <th></th>\n",
       "      <th></th>\n",
       "      <th></th>\n",
       "      <th></th>\n",
       "    </tr>\n",
       "  </thead>\n",
       "  <tbody>\n",
       "    <tr>\n",
       "      <th>140</th>\n",
       "      <td>2472259</td>\n",
       "      <td>1656535</td>\n",
       "      <td>169986</td>\n",
       "      <td>2397178.75</td>\n",
       "      <td>2410931.75</td>\n",
       "      <td>165174.218750</td>\n",
       "    </tr>\n",
       "    <tr>\n",
       "      <th>141</th>\n",
       "      <td>2549123</td>\n",
       "      <td>1692721</td>\n",
       "      <td>176583</td>\n",
       "      <td>2394155.50</td>\n",
       "      <td>2422852.25</td>\n",
       "      <td>164980.312500</td>\n",
       "    </tr>\n",
       "    <tr>\n",
       "      <th>142</th>\n",
       "      <td>2623960</td>\n",
       "      <td>1731200</td>\n",
       "      <td>183066</td>\n",
       "      <td>2406143.50</td>\n",
       "      <td>2433146.25</td>\n",
       "      <td>164409.031250</td>\n",
       "    </tr>\n",
       "    <tr>\n",
       "      <th>143</th>\n",
       "      <td>2708885</td>\n",
       "      <td>1779541</td>\n",
       "      <td>190858</td>\n",
       "      <td>2401289.00</td>\n",
       "      <td>2446680.00</td>\n",
       "      <td>166375.359375</td>\n",
       "    </tr>\n",
       "    <tr>\n",
       "      <th>144</th>\n",
       "      <td>2811193</td>\n",
       "      <td>1820433</td>\n",
       "      <td>197159</td>\n",
       "      <td>2397425.75</td>\n",
       "      <td>2453961.00</td>\n",
       "      <td>166465.531250</td>\n",
       "    </tr>\n",
       "  </tbody>\n",
       "</table>\n",
       "</div>"
      ],
      "text/plain": [
       "      Confirmed  Infected  Deaths  predicted_confirmed  predicted_confirmed1  \\\n",
       "Date                                                                           \n",
       "140     2472259   1656535  169986           2397178.75            2410931.75   \n",
       "141     2549123   1692721  176583           2394155.50            2422852.25   \n",
       "142     2623960   1731200  183066           2406143.50            2433146.25   \n",
       "143     2708885   1779541  190858           2401289.00            2446680.00   \n",
       "144     2811193   1820433  197159           2397425.75            2453961.00   \n",
       "\n",
       "      predicted_deaths  \n",
       "Date                    \n",
       "140      165174.218750  \n",
       "141      164980.312500  \n",
       "142      164409.031250  \n",
       "143      166375.359375  \n",
       "144      166465.531250  "
      ]
     },
     "execution_count": 92,
     "metadata": {},
     "output_type": "execute_result"
    }
   ],
   "source": [
    "XGBtestWithAnswers['Date'] =  XGBtestWithAnswers.Month * 30 +  XGBtestWithAnswers.Day\n",
    "del XGBtestWithAnswers[\"Month\"]\n",
    "del XGBtestWithAnswers[\"Day\"]\n",
    "global_dt = XGBtestWithAnswers.drop('Place', 1).groupby(['Date']).sum()\n",
    "N = len(XGBtestWithAnswers.predicted_confirmed)\n",
    "global_dt"
   ]
  },
  {
   "cell_type": "code",
   "execution_count": 93,
   "metadata": {},
   "outputs": [
    {
     "data": {
      "text/plain": [
       "214589883.64025345"
      ]
     },
     "execution_count": 93,
     "metadata": {},
     "output_type": "execute_result"
    }
   ],
   "source": [
    "1/N * (np.square(global_dt.predicted_confirmed - global_dt.Confirmed)).sum()"
   ]
  },
  {
   "cell_type": "code",
   "execution_count": 94,
   "metadata": {},
   "outputs": [
    {
     "data": {
      "text/plain": [
       "157998363.53954163"
      ]
     },
     "execution_count": 94,
     "metadata": {},
     "output_type": "execute_result"
    }
   ],
   "source": [
    "1/N * (np.square(global_dt.predicted_confirmed1 - global_dt.Confirmed)).sum()"
   ]
  },
  {
   "cell_type": "code",
   "execution_count": 95,
   "metadata": {},
   "outputs": [
    {
     "data": {
      "text/plain": [
       "1281193.2383223476"
      ]
     },
     "execution_count": 95,
     "metadata": {},
     "output_type": "execute_result"
    }
   ],
   "source": [
    "1/N *(np.square(global_dt.predicted_deaths - global_dt.Deaths)).sum()"
   ]
  },
  {
   "cell_type": "code",
   "execution_count": null,
   "metadata": {},
   "outputs": [],
   "source": []
  }
 ],
 "metadata": {
  "kernelspec": {
   "display_name": "Python 3",
   "language": "python",
   "name": "python3"
  },
  "language_info": {
   "codemirror_mode": {
    "name": "ipython",
    "version": 3
   },
   "file_extension": ".py",
   "mimetype": "text/x-python",
   "name": "python",
   "nbconvert_exporter": "python",
   "pygments_lexer": "ipython3",
   "version": "3.6.9"
  }
 },
 "nbformat": 4,
 "nbformat_minor": 4
}
